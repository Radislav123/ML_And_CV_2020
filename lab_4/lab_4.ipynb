{
 "cells": [
  {
   "cell_type": "markdown",
   "metadata": {},
   "source": [
    "[first data from](https://www.kaggle.com/uciml/glass)"
   ]
  },
  {
   "cell_type": "markdown",
   "metadata": {},
   "source": [
    "5) оформить всё в виде работоспособной программы"
   ]
  },
  {
   "cell_type": "code",
   "execution_count": 1,
   "metadata": {},
   "outputs": [],
   "source": [
    "from sklearn.model_selection import train_test_split\n",
    "from sklearn.neural_network import MLPClassifier\n",
    "from sklearn.preprocessing import normalize\n",
    "from sklearn.metrics import accuracy_score\n",
    "from sklearn.decomposition import PCA\n",
    "from sklearn.manifold import TSNE\n",
    "import matplotlib.pyplot as plt\n",
    "import numpy as np\n",
    "import csv"
   ]
  },
  {
   "cell_type": "code",
   "execution_count": 2,
   "metadata": {},
   "outputs": [],
   "source": [
    "file = open(\"glass.csv\", 'r')\n",
    "reader = csv.reader(file)\n",
    "\n",
    "raw_data = []\n",
    "for row in reader:\n",
    "    raw_data.append(row)\n",
    "raw_data = raw_data[1:]\n",
    "\n",
    "file.close()\n",
    "\n",
    "data = []\n",
    "for row in raw_data:\n",
    "    data.append([float(x) for x in row])\n",
    "\n",
    "x = [row[:-1] for row in data]\n",
    "y = [row[-1] for row in data]"
   ]
  },
  {
   "cell_type": "markdown",
   "metadata": {},
   "source": [
    "Визуализация"
   ]
  },
  {
   "cell_type": "code",
   "execution_count": 3,
   "metadata": {},
   "outputs": [],
   "source": [
    "def plot_PCA(show_data):\n",
    "    \n",
    "    pca=PCA(n_components=2)\n",
    "    reduced_data = pca.fit_transform(show_data)\n",
    "\n",
    "    fig, ax = plt.subplots()\n",
    "    ax.scatter(reduced_data[:, 0], reduced_data[:, 1],\n",
    "               cmap=plt.cm.autumn, edgecolor='b')\n",
    "    ax.set_title(\"PCA plot\")\n",
    "    \n",
    "    plt.show()    "
   ]
  },
  {
   "cell_type": "code",
   "execution_count": 4,
   "metadata": {},
   "outputs": [],
   "source": [
    "def plot_TSNE(show_data):\n",
    "    tsne=TSNE()\n",
    "    reduced_data = tsne.fit_transform(show_data)\n",
    "\n",
    "    fig, ax = plt.subplots()\n",
    "    ax.scatter(reduced_data[:, 0], reduced_data[:, 1], \n",
    "               cmap=plt.cm.autumn, edgecolor='b')\n",
    "    ax.set_title(\"TSNE plot\")\n",
    "    \n",
    "    plt.show()"
   ]
  },
  {
   "cell_type": "markdown",
   "metadata": {},
   "source": [
    "3) визуализация набора данных с использованием методов снижения размерности"
   ]
  },
  {
   "cell_type": "code",
   "execution_count": 5,
   "metadata": {},
   "outputs": [
    {
     "data": {
      "image/png": "[encoded data removed]",
      "text/plain": [
       "<Figure size 432x288 with 1 Axes>"
      ]
     },
     "metadata": {
      "needs_background": "light"
     },
     "output_type": "display_data"
    },
    {
     "data": {
      "image/png": "[encoded data removed]",
      "text/plain": [
       "<Figure size 432x288 with 1 Axes>"
      ]
     },
     "metadata": {
      "needs_background": "light"
     },
     "output_type": "display_data"
    }
   ],
   "source": [
    "plot_PCA(x)\n",
    "plot_TSNE(x)"
   ]
  },
  {
   "cell_type": "markdown",
   "metadata": {},
   "source": [
    "1) построить нейронную сеть и обучить ее\n",
    "\n",
    "(функция, которая этим занимается)"
   ]
  },
  {
   "cell_type": "code",
   "execution_count": 6,
   "metadata": {},
   "outputs": [],
   "source": [
    "def train_MLPC(layers, x = x, y = y):\n",
    "    train_x, test_x, train_y, test_y = train_test_split(x, y, test_size=0.2)\n",
    "        \n",
    "    # max_iter поставил на такое значение, тк иначе вылетает исключение,\n",
    "    # что модель не сходится при выставленном количестве итераций\n",
    "    model = MLPClassifier(layers, activation='tanh', max_iter = 10000)\n",
    "    model.fit(train_x, train_y)\n",
    "\n",
    "    y_hat = model.predict(test_x)\n",
    "\n",
    "    return accuracy_score([[i] for i in test_y], y_hat)"
   ]
  },
  {
   "cell_type": "code",
   "execution_count": 7,
   "metadata": {},
   "outputs": [
    {
     "name": "stdout",
     "output_type": "stream",
     "text": [
      "0.6511627906976745\n",
      "Wall time: 3.46 s\n"
     ]
    }
   ],
   "source": [
    "%%time\n",
    "accuracy = [train_MLPC((64, 64))]\n",
    "print(accuracy[0])"
   ]
  },
  {
   "cell_type": "markdown",
   "metadata": {},
   "source": [
    "4) поэкспериментировать с несколькими структурами нейросети"
   ]
  },
  {
   "cell_type": "markdown",
   "metadata": {},
   "source": [
    "До этого было сделано все с персептроном с внутренними слоями 64 и 64, далее будет несколько других конфигураций"
   ]
  },
  {
   "cell_type": "code",
   "execution_count": 8,
   "metadata": {},
   "outputs": [
    {
     "name": "stdout",
     "output_type": "stream",
     "text": [
      "0.6511627906976745\n",
      "0.6976744186046512\n",
      "0.5581395348837209\n",
      "0.7906976744186046\n",
      "0.7441860465116279\n",
      "0.6744186046511628\n",
      "0.8372093023255814\n",
      "0.6744186046511628\n",
      "max accuracy :  0.8372093023255814\n",
      "Wall time: 26.8 s\n"
     ]
    }
   ],
   "source": [
    "%%time\n",
    "accuracy.append(train_MLPC((32, 32, 32)))\n",
    "accuracy.append(train_MLPC((16, 16, 16, 16)))\n",
    "accuracy.append(train_MLPC((128)))\n",
    "accuracy.append(train_MLPC((256)))\n",
    "accuracy.append(train_MLPC((256, 256)))\n",
    "accuracy.append(train_MLPC((256, 256, 256)))\n",
    "accuracy.append(train_MLPC((256, 128, 128)))\n",
    "\n",
    "for i in accuracy:\n",
    "    print(i)\n",
    "\n",
    "print(\"max accuracy : \", max(accuracy))"
   ]
  },
  {
   "cell_type": "markdown",
   "metadata": {},
   "source": [
    "Далее проверим те же конфигурации сетей с нормализованными данными"
   ]
  },
  {
   "cell_type": "markdown",
   "metadata": {},
   "source": [
    "2) чистка и нормализация входных данных\n",
    "\n",
    "(тут нормализуются данные, 'y' уже не трогается)"
   ]
  },
  {
   "cell_type": "code",
   "execution_count": 9,
   "metadata": {},
   "outputs": [],
   "source": [
    "x_norm = normalize(x, axis = 0)\n",
    "\n",
    "train_x_norm, test_x_norm, train_y_norm, test_y_norm = train_test_split(x_norm, y, test_size=0.2)"
   ]
  },
  {
   "cell_type": "code",
   "execution_count": 10,
   "metadata": {},
   "outputs": [
    {
     "name": "stdout",
     "output_type": "stream",
     "text": [
      "0.6744186046511628\n",
      "0.5813953488372093\n",
      "0.6744186046511628\n",
      "0.6046511627906976\n",
      "0.7674418604651163\n",
      "0.5813953488372093\n",
      "0.6744186046511628\n",
      "0.5813953488372093\n",
      "max accuracy :  0.7674418604651163\n",
      "Wall time: 59.7 s\n"
     ]
    }
   ],
   "source": [
    "%%time\n",
    "accuracy_norm = [\n",
    "    train_MLPC((64, 64), x = x_norm),\n",
    "    train_MLPC((32, 32, 32), x = x_norm),\n",
    "    train_MLPC((16, 16, 16, 16), x = x_norm),\n",
    "    train_MLPC((128), x = x_norm),\n",
    "    train_MLPC((256), x = x_norm),\n",
    "    train_MLPC((256, 256), x = x_norm),\n",
    "    train_MLPC((256, 256, 256), x = x_norm),\n",
    "    train_MLPC((256, 128, 128), x = x_norm)\n",
    "]\n",
    "\n",
    "for i in accuracy_norm:\n",
    "    print(i)\n",
    "\n",
    "print(\"max accuracy : \", max(accuracy_norm))"
   ]
  },
  {
   "cell_type": "markdown",
   "metadata": {},
   "source": [
    "6) обучить сверточную или рекуррентную нейронную сеть\n",
    "\n",
    "(тут сверточная)"
   ]
  },
  {
   "cell_type": "markdown",
   "metadata": {},
   "source": [
    "[second data from](https://www.kaggle.com/dronio/SolarEnergy)"
   ]
  },
  {
   "cell_type": "code",
   "execution_count": 72,
   "metadata": {},
   "outputs": [],
   "source": [
    "from tensorflow import keras\n",
    "import pandas as pd"
   ]
  },
  {
   "cell_type": "code",
   "execution_count": 73,
   "metadata": {},
   "outputs": [],
   "source": [
    "def read(path):\n",
    "    file = open(path)\n",
    "    reader = csv.reader(file)\n",
    "    data = []\n",
    "    for row in reader:\n",
    "        data.append(row)\n",
    "    file.close()\n",
    "    return data"
   ]
  },
  {
   "cell_type": "code",
   "execution_count": 74,
   "metadata": {},
   "outputs": [],
   "source": [
    "def prepare_data(raw_data):\n",
    "    data = []\n",
    "    for row in raw_data:\n",
    "        if len(row) == 1:\n",
    "            data.append(int(row[0]))\n",
    "        else:\n",
    "            data.append([int(x) for x in row])\n",
    "    return data"
   ]
  },
  {
   "cell_type": "code",
   "execution_count": 75,
   "metadata": {},
   "outputs": [],
   "source": [
    "train_x = prepare_data(read(\"1453_574118_bundle_archive/csvTrainImages 13440x1024.csv\"))\n",
    "test_x = prepare_data(read(\"1453_574118_bundle_archive/csvTestImages 3360x1024.csv\"))\n",
    "\n",
    "train_y = prepare_data(read(\"1453_574118_bundle_archive/csvTrainLabel 13440x1.csv\"))\n",
    "test_y = prepare_data(read(\"1453_574118_bundle_archive/csvTestLabel 3360x1.csv\"))"
   ]
  },
  {
   "cell_type": "code",
   "execution_count": 86,
   "metadata": {},
   "outputs": [],
   "source": [
    "def train_CNN(layers, train_x = train_x, test_x = test_x, train_y = train_y, test_y = test_y):\n",
    "    # train_x, test_x, train_y, test_y = train_test_split(x, y, test_size=0.2)\n",
    "    train_x = pd.DataFrame.from_records(train_x).values\n",
    "    test_x = pd.DataFrame.from_records(test_x).values\n",
    "    train_x = train_x.reshape(train_x.shape[0], train_x.shape[1], -1)\n",
    "    test_x = test_x.reshape(test_x.shape[0], test_x.shape[1], -1)\n",
    "    # train_y = np.asarray(train_y)\n",
    "        \n",
    "    model = keras.Sequential(name = \"CNN\")\n",
    "    for i in layers:\n",
    "        model.add(\n",
    "            keras.layers.Conv1D(\n",
    "                filters = i,\n",
    "                kernel_size = 3,\n",
    "                activation = \"relu\"\n",
    "                #input_shape = (1024, 1)\n",
    "            )\n",
    "        )\n",
    "    model.add(keras.layers.Flatten())\n",
    "    model.add(keras.layers.Dense(28, activation = \"softmax\"))\n",
    "            \n",
    "    model.compile(\n",
    "        keras.optimizers.Adam(learning_rate=0.001, clipnorm=1.),\n",
    "        keras.losses.MeanSquaredError(reduction='sum'),\n",
    "        metrics=[keras.metrics.Precision()]\n",
    "    )\n",
    "        \n",
    "    model.fit(train_x, train_y, epochs = 10)\n",
    "    \n",
    "    y_hat = model.predict(test_x)\n",
    "        \n",
    "    return accuracy_score([[i] for i in test_y], y_hat)"
   ]
  },
  {
   "cell_type": "code",
   "execution_count": 91,
   "metadata": {},
   "outputs": [
    {
     "name": "stdout",
     "output_type": "stream",
     "text": [
      "0.5859375\n",
      "0.48288690476190477\n",
      "0.34933035714285715\n"
     ]
    }
   ],
   "source": [
    "print(train_CNN((64, 64), train_x, train_y))\n",
    "print(train_CNN((32, 32), train_x, train_y))\n",
    "print(train_CNN((16, 16, 16), train_x, train_y))"
   ]
  }
 ],
 "metadata": {
  "kernelspec": {
   "display_name": "Python 3",
   "language": "python",
   "name": "python3"
  },
  "language_info": {
   "codemirror_mode": {
    "name": "ipython",
    "version": 3
   },
   "file_extension": ".py",
   "mimetype": "text/x-python",
   "name": "python",
   "nbconvert_exporter": "python",
   "pygments_lexer": "ipython3",
   "version": "3.7.6"
  }
 },
 "nbformat": 4,
 "nbformat_minor": 4
}
