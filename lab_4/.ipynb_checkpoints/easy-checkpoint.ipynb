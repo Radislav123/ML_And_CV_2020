{
 "cells": [
  {
   "cell_type": "code",
   "execution_count": null,
   "metadata": {},
   "outputs": [],
   "source": [
    "def fire(x, squeeze, expand):\n",
    "    import tensorflow.keras.layers as l\n",
    "    y = l.Conv2D(filters=squeeze, kernel_size=1, padding='same', activation='elu')(x)\n",
    "    y = l.BatchNormalization(momentum=0.9)(y)\n",
    "    \n",
    "    y1 = l.Conv2D(filters=expand//2, kernel_size=1, padding='same', activation='elu')(y)\n",
    "    y1 = l.BatchNormalization(momentum=0.9)(y1)\n",
    "    \n",
    "    y3 = l.Conv2D(filters=expand//2, kernel_size=3, padding='same', activation='elu')(y)\n",
    "    y3 = l.BatchNormalization(momentum=0.9)(y3)\n",
    "    \n",
    "    return l.concatenate([y1, y3])\n",
    "\n",
    "\n",
    "def fire_module(squeeze, expand):\n",
    "    return lambda x: fire(x, squeeze, expand)\n",
    "\n",
    "\n",
    "def make_squeeze():\n",
    "    import tensorflow.keras.layers as l\n",
    "    x = l.Input(shape=[*dim, channels])\n",
    "    \n",
    "    y = l.Conv2D(kernel_size=3, filters=32, padding='same', activation='elu')(x)\n",
    "    y = l.BatchNormalization(momentum=0.9)(y)\n",
    "    \n",
    "    y = fire_module(24, 48)(y)\n",
    "    y = tf.keras.layers.MaxPooling2D(pool_size=2)(y)\n",
    "    y = fire_module(48, 96)(y)\n",
    "    y = tf.keras.layers.MaxPooling2D(pool_size=2)(y)\n",
    "    y = fire_module(64, 128)(y)\n",
    "    y = tf.keras.layers.MaxPooling2D(pool_size=2)(y)\n",
    "    y = fire_module(48, 96)(y)\n",
    "    y = tf.keras.layers.MaxPooling2D(pool_size=2)(y)\n",
    "    y = fire_module(24, 48)(y)\n",
    "    \n",
    "    y = l.GlobalAveragePooling2D()(y)\n",
    "    y = l.Dense(2, activation='softmax')(y)\n",
    "    \n",
    "    return tf.keras.Model(x, y)\n",
    "\n",
    "model = make_squeeze()"
   ]
  }
 ],
 "metadata": {
  "kernelspec": {
   "display_name": "Python 3",
   "language": "python",
   "name": "python3"
  },
  "language_info": {
   "codemirror_mode": {
    "name": "ipython",
    "version": 3
   },
   "file_extension": ".py",
   "mimetype": "text/x-python",
   "name": "python",
   "nbconvert_exporter": "python",
   "pygments_lexer": "ipython3",
   "version": "3.7.6"
  }
 },
 "nbformat": 4,
 "nbformat_minor": 4
}
