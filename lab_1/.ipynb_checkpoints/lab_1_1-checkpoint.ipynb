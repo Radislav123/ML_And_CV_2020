{
 "cells": [
  {
   "cell_type": "markdown",
   "metadata": {},
   "source": [
    "Вариант №1 горизонтальная линия.\n",
    "\n",
    "Необходимо разработать программу, обнаруживающую простейшие объекты или их границы на изображении.\n",
    "Требуется составить матрицу свертки в соответствии с номером варианта и при помощи этой матрицы\n",
    "обработать входное изображение. В результате обработки изображения должны быть подсвечены зоны\n",
    "соответствующие варианту задания. Далее необходимо сформировать новое изображение,\n",
    "в котором на однотонном фоне будут помещены обнаруженные фрагменты исходного изображения.\n",
    "Изображение обрабатывается в оттенках серого."
   ]
  },
  {
   "cell_type": "code",
   "execution_count": 1,
   "metadata": {},
   "outputs": [],
   "source": [
    "def normalize (array):\n",
    "    return array / np.amax(array)"
   ]
  },
  {
   "cell_type": "markdown",
   "metadata": {},
   "source": [
    "1. сформировать матрицу свертки\n",
    "примечание: чтобы получить необходимую матрицу был применен [метод научного тыка](https://ru.wikipedia.org/wiki/%D0%9C%D0%B5%D1%82%D0%BE%D0%B4_%D0%BF%D1%80%D0%BE%D0%B1_%D0%B8_%D0%BE%D1%88%D0%B8%D0%B1%D0%BE%D0%BA#%D0%A2%D0%A0%D0%98%D0%97)."
   ]
  },
  {
   "cell_type": "code",
   "execution_count": 2,
   "metadata": {},
   "outputs": [],
   "source": [
    "weights_verticals = [\n",
    "    [0, 1, 0],\n",
    "    [0, -1, 0],\n",
    "    [0, 1, 0]\n",
    "]\n",
    "weights_points = [\n",
    "    [0, 0, 0, 0, 0],\n",
    "    [0, 1, 1, 1, 0],\n",
    "    [0, 1, -1, 1, 0],\n",
    "    [0, 1, 1, 1, 0],\n",
    "    [0, 0, 0, 0, 0]\n",
    "]"
   ]
  },
  {
   "cell_type": "markdown",
   "metadata": {},
   "source": [
    "2) применить матрицу свертки к исходному изображению\n",
    "\n",
    "3) создать новое изображение, залить его выбранным цветом\n",
    "\n",
    "4) скопировать выделенные фрагменты исходного изображения в новое изображение"
   ]
  },
  {
   "cell_type": "code",
   "execution_count": 3,
   "metadata": {},
   "outputs": [],
   "source": [
    "import numpy as np\n",
    "from scipy import ndimage\n",
    "from PIL import Image, ImageDraw\n",
    "from matplotlib import pyplot as plt"
   ]
  },
  {
   "cell_type": "code",
   "execution_count": 4,
   "metadata": {
    "scrolled": false
   },
   "outputs": [],
   "source": [
    "image = Image.open(\"lines.bmp\")\n",
    "image = 255 - np.array(image)[:, :, 0]\n",
    "image = image % 2\n",
    "\n",
    "without_verticals = normalize(ndimage.convolve(image, weights_verticals, mode = \"constant\", cval = 0))\n",
    "\n",
    "points = normalize(ndimage.convolve(image, weights_points, mode = \"constant\", cval = 0))\n",
    "without_points = without_verticals - points"
   ]
  },
  {
   "cell_type": "markdown",
   "metadata": {},
   "source": [
    "5) оформить всё в виде работоспособной программы\n",
    "\n",
    "тут просто представленны иллюстрации"
   ]
  },
  {
   "cell_type": "code",
   "execution_count": 5,
   "metadata": {
    "scrolled": false
   },
   "outputs": [
    {
     "data": {
      "text/plain": [
       "<matplotlib.image.AxesImage at 0x1df45298e88>"
      ]
     },
     "execution_count": 5,
     "metadata": {},
     "output_type": "execute_result"
    },
    {
     "data": {
      "image/png": "[encoded data removed]",
      "text/plain": [
       "<Figure size 1296x2736 with 3 Axes>"
      ]
     },
     "metadata": {
      "needs_background": "light"
     },
     "output_type": "display_data"
    }
   ],
   "source": [
    "_, axs = plt.subplots(1, 3, figsize = (image.shape))\n",
    "axs[0].imshow(image, cmap = \"gray\")\n",
    "axs[1].imshow(without_verticals, cmap = \"gray\")\n",
    "axs[2].imshow(without_points, cmap = \"gray\")"
   ]
  }
 ],
 "metadata": {
  "kernelspec": {
   "display_name": "Python 3",
   "language": "python",
   "name": "python3"
  },
  "language_info": {
   "codemirror_mode": {
    "name": "ipython",
    "version": 3
   },
   "file_extension": ".py",
   "mimetype": "text/x-python",
   "name": "python",
   "nbconvert_exporter": "python",
   "pygments_lexer": "ipython3",
   "version": "3.7.6"
  }
 },
 "nbformat": 4,
 "nbformat_minor": 4
}
