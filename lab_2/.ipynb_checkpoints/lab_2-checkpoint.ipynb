{
 "cells": [
  {
   "cell_type": "code",
   "execution_count": 3,
   "metadata": {},
   "outputs": [],
   "source": [
    "import numpy as np\n",
    "import cv2\n",
    "from matplotlib import pyplot as plt"
   ]
  },
  {
   "cell_type": "code",
   "execution_count": 14,
   "metadata": {},
   "outputs": [
    {
     "ename": "KeyboardInterrupt",
     "evalue": "",
     "output_type": "error",
     "traceback": [
      "\u001b[1;31m---------------------------------------------------------------------------\u001b[0m",
      "\u001b[1;31mKeyboardInterrupt\u001b[0m                         Traceback (most recent call last)",
      "\u001b[1;32m<ipython-input-14-f273e34389f2>\u001b[0m in \u001b[0;36m<module>\u001b[1;34m\u001b[0m\n\u001b[0;32m      9\u001b[0m     \u001b[1;32mwhile\u001b[0m\u001b[1;33m(\u001b[0m\u001b[1;32mTrue\u001b[0m\u001b[1;33m)\u001b[0m\u001b[1;33m:\u001b[0m\u001b[1;33m\u001b[0m\u001b[1;33m\u001b[0m\u001b[0m\n\u001b[0;32m     10\u001b[0m         \u001b[1;31m# Прочитать очередной кадр frame, если он не прочитался, то в ret будет False.\u001b[0m\u001b[1;33m\u001b[0m\u001b[1;33m\u001b[0m\u001b[1;33m\u001b[0m\u001b[0m\n\u001b[1;32m---> 11\u001b[1;33m         \u001b[0mret\u001b[0m\u001b[1;33m,\u001b[0m \u001b[0mframe\u001b[0m \u001b[1;33m=\u001b[0m \u001b[0mcap\u001b[0m\u001b[1;33m.\u001b[0m\u001b[0mread\u001b[0m\u001b[1;33m(\u001b[0m\u001b[1;33m)\u001b[0m\u001b[1;33m\u001b[0m\u001b[1;33m\u001b[0m\u001b[0m\n\u001b[0m\u001b[0;32m     12\u001b[0m         \u001b[1;31m# Превратим картинку в оттенки серого.\u001b[0m\u001b[1;33m\u001b[0m\u001b[1;33m\u001b[0m\u001b[1;33m\u001b[0m\u001b[0m\n\u001b[0;32m     13\u001b[0m \u001b[1;31m#         gray = cv2.cvtColor(frame, cv2.COLOR_BGR2GRAY)\u001b[0m\u001b[1;33m\u001b[0m\u001b[1;33m\u001b[0m\u001b[1;33m\u001b[0m\u001b[0m\n",
      "\u001b[1;31mKeyboardInterrupt\u001b[0m: "
     ]
    }
   ],
   "source": [
    "# Видеопоток можно брать из файла.\n",
    "# path = \"Users/forga/YandexDisk/Education/2019-2020/3-4modules/Python/ML_And_CV_2020/lab_2/drop.avi\"\n",
    "path = \"drop.avi\"\n",
    "cap = cv2.VideoCapture(path)\n",
    "# Будем считать кадры.\n",
    "cl = 0\n",
    "\n",
    "try:\n",
    "    while(True):\n",
    "        # Прочитать очередной кадр frame, если он не прочитался, то в ret будет False.\n",
    "        ret, frame = cap.read()\n",
    "        # Превратим картинку в оттенки серого.\n",
    "        gray = cv2.cvtColor(frame, cv2.COLOR_BGR2GRAY)\n",
    "\n",
    "        # Инвертируем цвета части картинки.\n",
    "        gray[100:300, 100:300] = 255 - gray[100:300, 100:300]\n",
    "        cl = (cl + 1) % 256\n",
    "        # Размоем исходную картинку.\n",
    "        frame = cv2.GaussianBlur(frame, (25, 25), 0)\n",
    "        # Выведем номер кадра.\n",
    "        cv2.putText(frame, str(cl), (50, 50),cv2.FONT_HERSHEY_SIMPLEX, 1, (200, 10, 20), 2)\n",
    "        # Выведем в окна исходный кадр, и кадр в оттенках серого.\n",
    "        cv2.imshow('Video', frame)\n",
    "        cv2.imshow('Frame', gray)\n",
    "        #print(frame)\n",
    "        #print(gray)\n",
    "        # Крутимся в цикле, пока пользователь не нажмет Esc.\n",
    "        if cv2.waitKey(1) & 0xFF == 27:\n",
    "            break\n",
    "finally:\n",
    "    # Отпускаем видеопоток, закрываем все окна.\n",
    "    # Если из-за ошибки мы сюда не доберемся, это надо сделать вручную, а то придется перезапускать ядро.\n",
    "    cap.release()\n",
    "    cv2.destroyAllWindows()"
   ]
  },
  {
   "cell_type": "code",
   "execution_count": null,
   "metadata": {},
   "outputs": [],
   "source": []
  }
 ],
 "metadata": {
  "kernelspec": {
   "display_name": "Python 3",
   "language": "python",
   "name": "python3"
  },
  "language_info": {
   "codemirror_mode": {
    "name": "ipython",
    "version": 3
   },
   "file_extension": ".py",
   "mimetype": "text/x-python",
   "name": "python",
   "nbconvert_exporter": "python",
   "pygments_lexer": "ipython3",
   "version": "3.7.6"
  }
 },
 "nbformat": 4,
 "nbformat_minor": 4
}
