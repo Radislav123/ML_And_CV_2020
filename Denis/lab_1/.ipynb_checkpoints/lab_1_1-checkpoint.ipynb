{
 "cells": [
  {
   "cell_type": "code",
   "execution_count": 0,
   "metadata": {
    "colab": {},
    "colab_type": "code",
    "id": "BOsv2vvIMcvo"
   },
   "outputs": [],
   "source": [
    "from matplotlib import pyplot as plt\n",
    "from PIL import Image, ImageDraw"
   ]
  },
  {
   "cell_type": "code",
   "execution_count": 0,
   "metadata": {
    "colab": {},
    "colab_type": "code",
    "id": "YtW--M8oPBrd"
   },
   "outputs": [],
   "source": [
    "from sklearn.cluster import DBSCAN\n",
    "import numpy as np\n",
    "import seaborn as sns\n",
    "from matplotlib.colors import ListedColormap\n",
    "from numpy.random import choice\n",
    "\n",
    "from scipy import ndimage, misc\n",
    "import numpy.fft\n",
    "import numpy as np"
   ]
  },
  {
   "cell_type": "code",
   "execution_count": 0,
   "metadata": {
    "colab": {},
    "colab_type": "code",
    "id": "dZL4ewHhPFuS"
   },
   "outputs": [],
   "source": [
    "conv=np.array([[1,0,0,0,0,0,0,0,0,0],[1,0,0,0,0,0,0,0,0,0],[0,1,0,0,0,0,0,0,0,0],[0,0,1,0,0,0,0,0,0,0],[0,0,0,1,1,0,0,0,0,0]])"
   ]
  },
  {
   "cell_type": "code",
   "execution_count": 0,
   "metadata": {
    "colab": {},
    "colab_type": "code",
    "id": "c229j352PL1C"
   },
   "outputs": [],
   "source": [
    "img=Image.open('/content/lab1.jpg')\n",
    "img_1=np.array(img)"
   ]
  },
  {
   "cell_type": "code",
   "execution_count": 0,
   "metadata": {
    "colab": {
     "base_uri": "https://localhost:8080/",
     "height": 34
    },
    "colab_type": "code",
    "id": "iQSeY9SRRfx3",
    "outputId": "9a07f982-d88d-4b06-fed9-bcd68d33105d"
   },
   "outputs": [
    {
     "data": {
      "text/plain": [
       "(20, 20, 3)"
      ]
     },
     "execution_count": 13,
     "metadata": {
      "tags": []
     },
     "output_type": "execute_result"
    }
   ],
   "source": [
    "img_1.shape"
   ]
  },
  {
   "cell_type": "code",
   "execution_count": 0,
   "metadata": {
    "colab": {},
    "colab_type": "code",
    "id": "nmE1kWtARjNk"
   },
   "outputs": [],
   "source": [
    "img_2 = img_1[:,:,1].astype('int64')\n",
    "pix = img.load()\n",
    "width = img.size[0]\n",
    "height = img.size[1]\n",
    "for i in range(width):\n",
    "  for j in range(height):\n",
    "    res = 256 - (pix[j,i][0]+pix[j,i][1]+pix[j,i][2])/3\n",
    "    img_2[i,j]=res\n"
   ]
  },
  {
   "cell_type": "code",
   "execution_count": 0,
   "metadata": {
    "colab": {
     "base_uri": "https://localhost:8080/",
     "height": 1000
    },
    "colab_type": "code",
    "id": "7VkEN5U7Rnlm",
    "outputId": "1dd7236b-6c8d-4c8b-d930-d1a16bb7edad"
   },
   "outputs": [
    {
     "data": {
      "image/png": "[encoded data removed]",
      "text/plain": [
       "<Figure size 1296x1296 with 5 Axes>"
      ]
     },
     "metadata": {
      "tags": []
     },
     "output_type": "display_data"
    }
   ],
   "source": [
    "fig, (ax1,ax2,ax3,ax4,ax5) = plt.subplots(5, 1,figsize=(18,18))\n",
    "res1 = ndimage.convolve(img_2, conv, mode='constant', cval=0.0)\n",
    "res2 = np.zeros(res1.shape)\n",
    "for i in range(res1.shape[0]):\n",
    "    for j in range(res1.shape[1]):\n",
    "        if abs(res1[i,j]) > 410 :\n",
    "            res2[i,j] = 256 - abs(res1[i,j])\n",
    "        else:\n",
    "            res2[i,j] = 256\n",
    "ax1.imshow(img)\n",
    "ax2.imshow(img_1)\n",
    "ax3.imshow(img_2, cmap='gray')\n",
    "ax4.imshow(res1, cmap='gray')\n",
    "ax5.imshow(res2, cmap='gray')\n",
    "plt.show()"
   ]
  }
 ],
 "metadata": {
  "colab": {
   "name": "lab_1_1.ipynb",
   "provenance": [],
   "toc_visible": true
  },
  "kernelspec": {
   "display_name": "Python 3",
   "language": "python",
   "name": "python3"
  },
  "language_info": {
   "codemirror_mode": {
    "name": "ipython",
    "version": 3
   },
   "file_extension": ".py",
   "mimetype": "text/x-python",
   "name": "python",
   "nbconvert_exporter": "python",
   "pygments_lexer": "ipython3",
   "version": "3.7.6"
  }
 },
 "nbformat": 4,
 "nbformat_minor": 1
}
